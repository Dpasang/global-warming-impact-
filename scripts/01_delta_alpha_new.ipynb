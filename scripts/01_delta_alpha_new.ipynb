{
 "cells": [
  {
   "cell_type": "markdown",
   "id": "12f0dcc6",
   "metadata": {},
   "source": [
    "- **Author**: LIKE NING\n",
    "- **Manuscript**: \n",
    "- **Creation date**: 2025-01-16\n",
    "- **Latest update**: 2025-01-16 \\\n",
    "This Jupyter notebook produces Fig. spmaxfrzthw of the manuscript."
   ]
  },
  {
   "cell_type": "markdown",
   "id": "f779d297-367f-4ee6-9e97-4b8f339925f6",
   "metadata": {},
   "source": [
    "### 1.综合计算\n",
    "#### 1.1 albedo mutiply sunshine hours"
   ]
  },
  {
   "cell_type": "code",
   "execution_count": null,
   "id": "61e497e5-08d4-4355-97d3-852ea32ea7c2",
   "metadata": {
    "tags": []
   },
   "outputs": [],
   "source": [
    "%%bash\n",
    "# #!/bin/bash\n",
    "albedo_dir=\"/mnt/syn/tian/1_albedo/update/albedo_update\"\n",
    "shr_dir=\"/mnt/syn/tian/1_albedo/shr\"\n",
    "alpha_dir=\"/mnt/syn/tian/1_albedo/update/alpha_update\"\n",
    "rf_dir=\"/mnt/syn/tian/1_albedo/update/rf_update\"\n",
    "gwi_dir=\"/mnt/syn/tian/1_albedo/update/gwi_update\"\n",
    "mlist=\"/mnt/qnap/tian/tibet/alpha_date.txt\"\n",
    "rflist=\"/mnt/qnap/tian/tibet/rf_scalefactor.txt\"\n",
    "swlist=\"/mnt/qnap/tian/tibet/swin.txt\"\n",
    "mkdir -p $alpha_dir $rf_dir $gwi_dir\n",
    "\n",
    "# 从文件中读取每一行数据到列表中\n",
    "mylist=($(cat $mlist))\n",
    "rfslist=($(cat $rflist))\n",
    "swslist=($(cat $swlist))\n",
    "\n",
    "# for i in $(seq 0 7304);do \n",
    "for i in $(seq 0 366);do \n",
    "    date=${mylist[$i]}\n",
    "    swin=${swslist[$i]}\n",
    "    rfsc=${rfslist[$i]}\n",
    "    # echo $swin\n",
    "    rfsc=${rfslist[$i]}\n",
    "    albedo_nc=$albedo_dir/a_$date.nc\n",
    "    shr_nc=$shr_dir/sh$date.nc\n",
    "    alpha_nc=$alpha_dir/alpha_$date.nc\n",
    "    rf_nc=$rf_dir/rf_$date.nc\n",
    "    gwi_nc=$gwi_dir/gwi_$date.nc\n",
    "    # echo $out_nc\n",
    "    cdo -b F64 -O -mul -divc,1000 -setmissval,-9999 $albedo_nc -setmissval,-9999 $shr_nc $alpha_nc\n",
    "    cdo -b F64 -O -mulc,$swin -mul -divc,1000 -setmissval,-9999 $albedo_nc -setmissval,-9999 $shr_nc $rf_nc\n",
    "    cdo -b F64 -O -mulc,$rfsc -mul -divc,1000 -setmissval,-9999 $albedo_nc -setmissval,-9999 $shr_nc $gwi_nc\n",
    "done"
   ]
  },
  {
   "cell_type": "code",
   "execution_count": null,
   "id": "2e1d3acf-e079-4549-9544-23ad5fa498c9",
   "metadata": {
    "tags": []
   },
   "outputs": [],
   "source": [
    "%%bash\n",
    "# #!/bin/bash\n",
    "albedo_dir=\"/mnt/syn/tian/1_albedo/albedo\"\n",
    "shr_dir=\"/mnt/syn/tian/1_albedo/shr\"\n",
    "gwi_dir=\"/mnt/syn/tian/1_albedo/new/gwi_new\"\n",
    "mlist=\"/mnt/qnap/tian/tibet/alpha_date.txt\"\n",
    "rflist=\"/mnt/qnap/tian/tibet/rf_scalefactor.txt\"\n",
    "mkdir -p $gwi_dir\n",
    "\n",
    "# 从文件中读取每一行数据到列表中\n",
    "mylist=($(cat $mlist))\n",
    "rfslist=($(cat $rflist))\n",
    "\n",
    "for i in $(seq 0 7304);do \n",
    "    date=${mylist[$i]}\n",
    "    rfsc=${rfslist[$i]}\n",
    "    albedo_nc=$albedo_dir/a_$date.nc\n",
    "    shr_nc=$shr_dir/sh$date.nc\n",
    "    out_nc=$gwi_dir/gwi_$date.nc\n",
    "    echo $out_nc\n",
    "    cdo -b F64 -O -mulc,$rfsc -mul -divc,1000 -setmissval,-9999 $albedo_nc -setmissval,-9999 $shr_nc $out_nc\n",
    "done"
   ]
  },
  {
   "cell_type": "markdown",
   "id": "5d2c64e1-5810-4c77-bbe2-cd7d0e37ce87",
   "metadata": {},
   "source": [
    "#### 1.2 合并为逐年文件"
   ]
  },
  {
   "cell_type": "code",
   "execution_count": null,
   "id": "90cf5ad2-bb43-4ead-99a1-f13def3528ae",
   "metadata": {
    "tags": []
   },
   "outputs": [],
   "source": [
    "%%bash\n",
    "# #!/bin/bash\n",
    "albedo_dir=\"/mnt/syn/tian/1_albedo/update/albedo_update\"\n",
    "albedo_yr_dir=\"/mnt/syn/tian/1_albedo/update/albedo_yr_update\"\n",
    "mlist=\"/mnt/qnap/tian/tibet/alpha_yr.txt\"\n",
    "mkdir -p $albedo_yr_dir\n",
    "\n",
    "# 从文件中读取每一行数据到列表中\n",
    "mylist=($(cat $mlist))\n",
    "\n",
    "# 遍历列表中的数据\n",
    "for date in ${mylist[@]}\n",
    "do\n",
    "    echo $date\n",
    "    albedo_nc=$albedo_dir/a_$date*.nc\n",
    "    out_nc=$albedo_yr_dir/albedo_$date.nc\n",
    "    cdo -settaxis,${date}-01-01,00:00:00,1day -cat $albedo_nc $out_nc\n",
    "done\n"
   ]
  },
  {
   "cell_type": "markdown",
   "id": "524ff4c6-c284-468b-96a9-2fc2155b493c",
   "metadata": {},
   "source": [
    "#### 1.3 作差计算(直接使用日数据作差)"
   ]
  },
  {
   "cell_type": "code",
   "execution_count": null,
   "id": "9b08b97e-c499-45cd-828d-0b9f2072d365",
   "metadata": {
    "tags": []
   },
   "outputs": [],
   "source": [
    "%%bash\n",
    "# #!/bin/bash\n",
    "gwi_yr_dir=\"/mnt/syn/tian/1_albedo/new/gwi_yr\"\n",
    "gwi_delta_dir=\"/mnt/syn/tian/1_albedo/new/gwi_delta\"\n",
    "mlist=\"/mnt/qnap/tian/tibet/alpha_yr.txt\"\n",
    "mkdir -p $gwi_delta_dir\n",
    "\n",
    "basegwi=\"/mnt/syn/tian/1_albedo/new/gwi_yr/gwi_2001.nc\"\n",
    "# 从文件中读取每一行数据到列表中\n",
    "mylist=($(cat $mlist))\n",
    "\n",
    "# 遍历列表中的数据\n",
    "for date in ${mylist[@]}\n",
    "do\n",
    "    echo $date\n",
    "    gwi_nc=$gwi_yr_dir/gwi_$date*.nc\n",
    "    out_nc=$gwi_delta_dir/deltagwi_$date.nc\n",
    "    cdo -O -sub $basegwi $gwi_nc $out_nc\n",
    "done"
   ]
  },
  {
   "cell_type": "markdown",
   "id": "0f251c86-61f8-4dd9-90fa-f5830501001b",
   "metadata": {},
   "source": [
    "### 1.4 作差计算（使用月数据作差）"
   ]
  },
  {
   "cell_type": "code",
   "execution_count": null,
   "id": "ae3ab6a9-6bc7-4f59-af2d-76f511427a64",
   "metadata": {
    "tags": []
   },
   "outputs": [],
   "source": [
    "%%bash\n",
    "# #!/bin/bash\n",
    "gwi_yr_dir=\"/mnt/syn/tian/1_albedo/new/gwi_yr\"\n",
    "gwi_delta_dir=\"/mnt/syn/tian/1_albedo/new/gwi_delta\"\n",
    "mlist=\"/mnt/qnap/tian/tibet/alpha_yr.txt\"\n",
    "mkdir -p $gwi_delta_dir\n",
    "\n",
    "basegwi=\"/mnt/syn/tian/1_albedo/new/gwi_yr/gwi_2001.nc\"\n",
    "# 从文件中读取每一行数据到列表中\n",
    "mylist=($(cat $mlist))\n",
    "\n",
    "# 遍历列表中的数据\n",
    "for date in ${mylist[@]}\n",
    "do\n",
    "    echo $date\n",
    "    gwi_nc=$gwi_yr_dir/gwi_$date*.nc\n",
    "    out_nc=$gwi_delta_dir/deltagwi_mon_$date.nc\n",
    "    cdo -O -sub -monmean $basegwi -monmean $gwi_nc $out_nc\n",
    "done"
   ]
  },
  {
   "cell_type": "markdown",
   "id": "06a993f7-2043-4676-bd73-c1d763875ecb",
   "metadata": {},
   "source": [
    "## 修改文件属性（年份）"
   ]
  },
  {
   "cell_type": "code",
   "execution_count": null,
   "id": "ebdc45e8-ae0e-4294-b835-952da1d265f1",
   "metadata": {
    "tags": []
   },
   "outputs": [],
   "source": [
    "%%bash\n",
    "# #!/bin/bash\n",
    "gwi_delta_dir=\"/mnt/syn/tian/1_albedo/new/gwi_delta\"\n",
    "mlist=\"/mnt/qnap/tian/tibet/alpha_yr.txt\"\n",
    "mkdir -p $gwi_delta_dir\n",
    "\n",
    "\n",
    "# 从文件中读取每一行数据到列表中\n",
    "mylist=($(cat $mlist))\n",
    "\n",
    "# 遍历列表中的数据\n",
    "for date in ${mylist[@]}\n",
    "do\n",
    "    echo $date\n",
    "    deltagwi_nc=$gwi_delta_dir/deltagwi_mon_$date.nc\n",
    "    deltagwi_nc_new=$gwi_delta_dir/deltagwi_mon_new_$date.nc\n",
    "    cdo settaxis,$date-01-15,00:00,1months $deltagwi_nc $deltagwi_nc_new\n",
    "    ncatted -O -h -a history,global,d,, $deltagwi_nc_new $deltagwi_nc\n",
    "    rm -rf $deltagwi_nc\n",
    "    mv $deltagwi_nc_new $deltagwi_nc\n",
    "    # rm -rf $deltagwi_nc_new\n",
    "done"
   ]
  },
  {
   "cell_type": "code",
   "execution_count": null,
   "id": "5372ec3d-b5bb-472a-8db3-a015649f822e",
   "metadata": {},
   "outputs": [],
   "source": [
    "%%bash\n",
    "# #!/bin/bash\n",
    "albedo_dir=\"/mnt/syn/tian/1_albedo/albedo\"\n",
    "albedo_delta_dir=\"/mnt/syn/tian/1_albedo/new/albedo_delta\"\n",
    "mlist=\"/mnt/qnap/tian/tibet/alpha_date.txt\"\n",
    "rflist=\"/mnt/qnap/tian/tibet/rf_scalefactor.txt\"\n",
    "mkdir -p $gwi_dir\n",
    "\n",
    "# 从文件中读取每一行数据到列表中\n",
    "mylist=($(cat $mlist))\n",
    "rfslist=($(cat $rflist))\n",
    "\n",
    "for i in $(seq 0 7304);do \n",
    "    date=${mylist[$i]}\n",
    "    rfsc=${rfslist[$i]}\n",
    "    albedo_nc=$albedo_dir/a_$date.nc\n",
    "    out_nc=$albedo_delta_dir/deltalbedo_$date.nc\n",
    "    echo $out_nc\n",
    "    cdo -b F64 -O -mulc,$rfsc -mul -divc,1000 -setmissval,-9999 $albedo_nc -setmissval,-9999 $shr_nc $out_nc\n",
    "done"
   ]
  },
  {
   "cell_type": "code",
   "execution_count": null,
   "id": "fc19709b-7382-4277-96e7-14096ab46d6d",
   "metadata": {},
   "outputs": [],
   "source": [
    "%%bash\n",
    "# #!/bin/bash\n",
    "albedo_dir=\"/mnt/syn/tian/1_albedo/albedo\"\n",
    "albedo_yr_dir=\"/mnt/syn/tian/1_albedo/new/albedo_yr_new\"\n",
    "mlist=\"/mnt/qnap/tian/tibet/alpha_yr.txt\"\n",
    "mkdir -p $albedo_yr_dir\n",
    "\n",
    "# 从文件中读取每一行数据到列表中\n",
    "mylist=($(cat $mlist))\n",
    "\n",
    "# 遍历列表中的数据\n",
    "for date in ${mylist[@]}\n",
    "do\n",
    "    echo $date\n",
    "    albedo_nc=$albedo_dir/a_$date*.nc\n",
    "    out_nc=$albedo_yr_dir/albedo_$date.nc\n",
    "    cdo -settaxis,${date}-01-01,00:00:00,1day -cat $albedo_nc $out_nc\n",
    "done"
   ]
  },
  {
   "cell_type": "code",
   "execution_count": null,
   "id": "4ede1fc4-c092-49b6-8725-f5b98ddb5439",
   "metadata": {
    "tags": []
   },
   "outputs": [],
   "source": [
    "%%bash\n",
    "# #!/bin/bash\n",
    "albedo_yr_dir=\"/mnt/syn/tian/1_albedo/new/albedo_yr_new\"\n",
    "albedo_delta_dir=\"/mnt/syn/tian/1_albedo/new/albedo_delta_new\"\n",
    "mlist=\"/mnt/qnap/tian/tibet/alpha_yr.txt\"\n",
    "mkdir -p $albedo_delta_dir\n",
    "\n",
    "basegwi=\"/mnt/syn/tian/1_albedo/new/albedo_yr_new/albedo_2001.nc\"\n",
    "# 从文件中读取每一行数据到列表中\n",
    "mylist=($(cat $mlist))\n",
    "\n",
    "# 遍历列表中的数据\n",
    "for date in ${mylist[@]}\n",
    "do\n",
    "    echo $date\n",
    "    albedo_nc=$albedo_yr_dir/albedo_$date.nc\n",
    "    out_nc=$albedo_delta_dir/deltalbedo_mon_$date.nc\n",
    "    cdo -O -sub -monmean $basegwi -monmean $albedo_nc $out_nc\n",
    "done"
   ]
  }
 ],
 "metadata": {
  "kernelspec": {
   "display_name": "geocat",
   "language": "python",
   "name": "geocat"
  },
  "language_info": {
   "codemirror_mode": {
    "name": "ipython",
    "version": 3
   },
   "file_extension": ".py",
   "mimetype": "text/x-python",
   "name": "python",
   "nbconvert_exporter": "python",
   "pygments_lexer": "ipython3",
   "version": "3.12.5"
  }
 },
 "nbformat": 4,
 "nbformat_minor": 5
}
