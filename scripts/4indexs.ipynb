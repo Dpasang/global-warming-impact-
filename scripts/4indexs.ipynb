{
 "cells": [
  {
   "cell_type": "markdown",
   "id": "7684a823",
   "metadata": {},
   "source": [
    "- **Author**: LIKE NING\n",
    "- **Manuscript**: \n",
    "- **Creation date**: 2025-01-16\n",
    "- **Latest update**: 2025-01-16 \\\n",
    "This Jupyter notebook produces Fig. spmaxfrzthw of the manuscript."
   ]
  },
  {
   "cell_type": "code",
   "execution_count": 1,
   "id": "a2096c4f-a33f-4131-82c3-01e732e58236",
   "metadata": {
    "execution": {
     "iopub.execute_input": "2023-04-03T11:47:03.212980Z",
     "iopub.status.busy": "2023-04-03T11:47:03.212573Z",
     "iopub.status.idle": "2023-04-03T11:47:03.223769Z",
     "shell.execute_reply": "2023-04-03T11:47:03.222257Z",
     "shell.execute_reply.started": "2023-04-03T11:47:03.212954Z"
    },
    "tags": []
   },
   "outputs": [],
   "source": [
    "import glob\n",
    "import os\n",
    "import warnings\n",
    "\n",
    "import xarray as xr\n",
    "import xclim\n",
    "\n",
    "warnings.filterwarnings(\"ignore\")"
   ]
  },
  {
   "cell_type": "code",
   "execution_count": 11,
   "id": "3b5fef96-65d6-4865-a20a-fec4f1e9e4e7",
   "metadata": {
    "execution": {
     "iopub.execute_input": "2023-04-03T11:47:05.364683Z",
     "iopub.status.busy": "2023-04-03T11:47:05.364330Z",
     "iopub.status.idle": "2023-04-03T11:47:05.374963Z",
     "shell.execute_reply": "2023-04-03T11:47:05.373744Z",
     "shell.execute_reply.started": "2023-04-03T11:47:05.364659Z"
    },
    "tags": []
   },
   "outputs": [
    {
     "name": "stdout",
     "output_type": "stream",
     "text": [
      "/Volumes/ninglk/0_Data/1_Observation_In_situ_observations/0_Atmosphere/CN05.1/CN05.1_Tm_1961-2020_daily.nc\n"
     ]
    }
   ],
   "source": [
    "inpath = \"/Volumes/ninglk/0_Data/1_Observation_In_situ_observations/0_Atmosphere/CN05.1\"\n",
    "prefile = \"CN05.1_Pre_1961-2020_daily.nc\"\n",
    "tmpfile = \"CN05.1_Tm_1961-2020_daily.nc\"\n",
    "pre_input = os.path.join(inpath, prefile)\n",
    "tmp_input = os.path.join(inpath, tmpfile)\n",
    "print(tmp_input)"
   ]
  },
  {
   "cell_type": "markdown",
   "id": "ae7d9bfd",
   "metadata": {},
   "source": []
  },
  {
   "cell_type": "code",
   "execution_count": null,
   "id": "acce4c01-d3e4-43b8-9e87-0ab2514c4236",
   "metadata": {
    "execution": {
     "iopub.execute_input": "2023-04-03T11:47:15.375434Z",
     "iopub.status.busy": "2023-04-03T11:47:15.374480Z"
    },
    "tags": []
   },
   "outputs": [],
   "source": [
    "pre = xr.open_dataset(pre_input).pre\n",
    "pre_Q1 = xclim.core.calendar.percentile_doy(pre, per=25)\n",
    "print(pre_Q1)"
   ]
  },
  {
   "cell_type": "code",
   "execution_count": null,
   "id": "b08331bd-a5fb-4978-a8f2-c7fd5652755c",
   "metadata": {},
   "outputs": [],
   "source": []
  }
 ],
 "metadata": {
  "kernelspec": {
   "display_name": "geoclim",
   "language": "python",
   "name": "geoclim"
  },
  "language_info": {
   "codemirror_mode": {
    "name": "ipython",
    "version": 3
   },
   "file_extension": ".py",
   "mimetype": "text/x-python",
   "name": "python",
   "nbconvert_exporter": "python",
   "pygments_lexer": "ipython3",
   "version": "3.10.16"
  }
 },
 "nbformat": 4,
 "nbformat_minor": 5
}
