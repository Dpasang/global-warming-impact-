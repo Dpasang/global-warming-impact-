{
 "cells": [
  {
   "cell_type": "code",
   "execution_count": 1,
   "metadata": {
    "execution": {
     "iopub.execute_input": "2023-06-28T01:23:35.533470Z",
     "iopub.status.busy": "2023-06-28T01:23:35.533135Z",
     "iopub.status.idle": "2023-06-28T01:23:40.244578Z",
     "shell.execute_reply": "2023-06-28T01:23:40.242566Z",
     "shell.execute_reply.started": "2023-06-28T01:23:35.533446Z"
    },
    "tags": [],
    "vscode": {
     "languageId": "r"
    }
   },
   "outputs": [],
   "source": [
    "# %matplotlib widget\n",
    "import os\n",
    "import sys\n",
    "# import netCDF4 as nc\n",
    "import warnings\n",
    "\n",
    "import cartopy.crs as ccrs\n",
    "import cartopy.feature as cfeat\n",
    "import matplotlib.pyplot as plt\n",
    "import numpy as np\n",
    "import pymannkendall as mk\n",
    "import xarray as xr\n",
    "from cartopy.io.shapereader import Reader\n",
    "from cartopy.mpl.gridliner import LATITUDE_FORMATTER, LONGITUDE_FORMATTER\n",
    "from geocat.viz import util as gvutil\n",
    "\n",
    "warnings.filterwarnings(\"ignore\")"
   ]
  },
  {
   "cell_type": "code",
   "execution_count": 2,
   "metadata": {
    "execution": {
     "iopub.execute_input": "2023-06-28T01:23:47.597843Z",
     "iopub.status.busy": "2023-06-28T01:23:47.597322Z",
     "iopub.status.idle": "2023-06-28T01:23:47.604913Z",
     "shell.execute_reply": "2023-06-28T01:23:47.603525Z",
     "shell.execute_reply.started": "2023-06-28T01:23:47.597807Z"
    },
    "tags": [],
    "vscode": {
     "languageId": "r"
    }
   },
   "outputs": [
    {
     "name": "stdout",
     "output_type": "stream",
     "text": [
      "This notebook was built with:\n",
      "python version: 3.10.11 | packaged by conda-forge | (main, May 10 2023, 18:58:44) [GCC 11.3.0] \n",
      "/mnt/e/tian/data\n"
     ]
    }
   ],
   "source": [
    "# 设置相对路径\n",
    "data_dir = os.path.join(os.path.pardir, \"/mnt/e/tian/data\")\n",
    "print(\"This notebook was built with:\")\n",
    "print(\"python version: %s \" % sys.version)\n",
    "print(data_dir)"
   ]
  },
  {
   "cell_type": "markdown",
   "metadata": {},
   "source": [
    "# 1.读取文件并创建写出变量\n",
    "## 1）读取netcdf文件"
   ]
  },
  {
   "cell_type": "code",
   "execution_count": 3,
   "metadata": {
    "execution": {
     "iopub.execute_input": "2023-06-28T01:23:56.709650Z",
     "iopub.status.busy": "2023-06-28T01:23:56.709314Z",
     "iopub.status.idle": "2023-06-28T01:23:57.854495Z",
     "shell.execute_reply": "2023-06-28T01:23:57.851936Z",
     "shell.execute_reply.started": "2023-06-28T01:23:56.709627Z"
    },
    "tags": [],
    "vscode": {
     "languageId": "r"
    }
   },
   "outputs": [],
   "source": [
    "# 读取文件\n",
    "var_name = \"deltaGWI\"\n",
    "file = os.path.join(data_dir, \"GWIdelta_yearmean_2002-2020.nc\")\n",
    "# print(file)\n",
    "f = xr.open_dataset(file)\n",
    "var = f.deltaGWI\n",
    "# print(var)\n",
    "dim_1 = var.shape[1]\n",
    "dim_2 = var.shape[2]\n",
    "# print(dim_1, dim_2)\n",
    "lat = f.lat\n",
    "lon = f.lon\n",
    "lats = f.lat.values\n",
    "lons = f.lon.values\n",
    "# 设置输出及其相关变量属性\n",
    "slope_matrix = f.deltaGWI[0, :, :]\n",
    "p_matrix = f.deltaGWI[0, :, :]\n",
    "tau_matrix = f.deltaGWI[0, :, :]\n",
    "# print(slope_matrix)\n",
    "slope_matrix.attrs['long_name'] = 'Theil-Sen estimator/slope'\n",
    "# slope_matrix.attrs['units'] = 'mm/10yr'\n",
    "p_matrix.attrs['long_name'] = 'p-value of the significance test'\n",
    "p_matrix.attrs['units'] = ''\n",
    "tau_matrix.attrs['long_name'] = 'Kendall Tau'\n",
    "tau_matrix.attrs['units'] = ''\n",
    "# print(slope_matrix)"
   ]
  },
  {
   "cell_type": "markdown",
   "metadata": {},
   "source": [
    "## 2）Mann-kendall test"
   ]
  },
  {
   "cell_type": "code",
   "execution_count": null,
   "metadata": {
    "execution": {
     "iopub.execute_input": "2023-06-28T01:24:11.059910Z",
     "iopub.status.busy": "2023-06-28T01:24:11.059581Z"
    },
    "tags": [],
    "vscode": {
     "languageId": "r"
    }
   },
   "outputs": [],
   "source": [
    "# Mann-Kendall test\n",
    "for x in range(dim_1):\n",
    "    for y in range(dim_2):\n",
    "        var_list = np.array(var[:, x, y])\n",
    "        if np.isnan(var_list).any():\n",
    "            slope_matrix[x, y] = np.nan\n",
    "            p_matrix[x, y] = np.nan\n",
    "            tau_matrix[x, y] = np.nan\n",
    "        else:\n",
    "            mkrslt = mk.trend_free_pre_whitening_modification_test(var_list)\n",
    "            slope_matrix[x, y] = 10*mkrslt.slope\n",
    "            p_matrix[x, y] = mkrslt.p\n",
    "            tau_matrix[x, y] = mkrslt.Tau\n"
   ]
  },
  {
   "cell_type": "code",
   "execution_count": null,
   "metadata": {},
   "outputs": [],
   "source": [
    "# slope_nan = slope_matrix.copy()\n",
    "# slope_nan[slope_nan == -9999] = np.nan\n",
    "print(slope_matrix)\n",
    "# print(np.nanmax(slope_matrix.values))\n",
    "# print(np.nanmin(slope_matrix.values))"
   ]
  },
  {
   "cell_type": "code",
   "execution_count": null,
   "metadata": {
    "vscode": {
     "languageId": "r"
    }
   },
   "outputs": [],
   "source": [
    "slope_matrix"
   ]
  },
  {
   "cell_type": "markdown",
   "metadata": {},
   "source": [
    "## 写出Mann-kendall检验结果"
   ]
  },
  {
   "cell_type": "code",
   "execution_count": null,
   "metadata": {
    "vscode": {
     "languageId": "r"
    }
   },
   "outputs": [],
   "source": [
    "# 写出计算结果到netcdf文件\n",
    "# print(slope_matrix)\n",
    "out = xr.Dataset({\n",
    "    \"slope\": slope_matrix,\n",
    "    \"p\": p_matrix,\n",
    "    \"tau\": tau_matrix\n",
    "})\n",
    "# out.coords\n",
    "del out['time']\n",
    "# print(out)\n",
    "out.attrs['Author'] = 'ninglk@igsnrr.ac.cn'\n",
    "# out.drop_dims(\"time\")\n",
    "out.to_netcdf(\"../deltaGWI_tibet_mk.nc\")"
   ]
  },
  {
   "cell_type": "code",
   "execution_count": null,
   "metadata": {
    "vscode": {
     "languageId": "r"
    }
   },
   "outputs": [],
   "source": [
    "# 设置显著性\n",
    "lons, lats = np.meshgrid(p_matrix.lon, p_matrix.lat)\n",
    "sig_area = np.where(p_matrix <= 0.05)\n",
    "# 添加shapefile边界\n",
    "reader = Reader(os.path.join(data_dir, \"yzb.shp\"))\n",
    "proj = ccrs.PlateCarree()\n",
    "feature = cfeat.ShapelyFeature(reader.geometries(), proj,\n",
    "                               edgecolor='k', facecolor='none')"
   ]
  },
  {
   "cell_type": "code",
   "execution_count": null,
   "metadata": {
    "vscode": {
     "languageId": "r"
    }
   },
   "outputs": [],
   "source": [
    "# Generate figure (set its size (width, height) in inches)\n",
    "import matplotlib\n",
    "matplotlib.rcParams['axes.unicode_minus'] = False\n",
    "fig = plt.figure(figsize=(11, 6))\n",
    "# %matplotlib widget\n",
    "# Generate axes, using Cartopy\n",
    "projection = ccrs.PlateCarree()\n",
    "ax = plt.axes(projection=projection)\n",
    "\n",
    "# Use global map and draw coastlines\n",
    "# ax.set_global()\n",
    "# ax.coastlines()\n",
    "\n",
    "# Import an NCL colormap\n",
    "# necmp = gvcmaps.BlueYellowRed_r\n",
    "# print(necmp)\n",
    "# cmap = plt.get_cmap('RdBu_r')\n",
    "# newmap = gvutil.truncate_colormap(cmap, minval=0.3, maxval=0.9)\n",
    "newcmp = gvutil.truncate_colormap(gvcmaps.BlueYellowRed_r,\n",
    "                                  minval=0.20,\n",
    "                                  maxval=1.0)\n",
    "# Contourf-plot data (for filled contour s)\n",
    "# Note, min-max contour levels are hard-coded. contourf's automatic contour value selector produces fractional values.\n",
    "p = slope_matrix.plot.contourf(ax=ax,\n",
    "                               vmin=-50,\n",
    "                               vmax=80,\n",
    "                               levels=14,\n",
    "                               cmap=newcmp,\n",
    "                               add_colorbar=False,\n",
    "                               transform=projection,\n",
    "                               extend='both',\n",
    "                               extendfrac='auto')\n",
    "p.ax.add_feature(feature, linewidth=1)\n",
    "_ = ax.scatter(lons[sig_area], lats[sig_area], marker='.',\n",
    "               s=5, c='k', alpha=1.0, transform=ccrs.PlateCarree())\n",
    "\n",
    "\n",
    "# Add horizontal colorbar\n",
    "# position=fig.add_axes([0.95, 0.24, 0.03, 0.84])\n",
    "cbar = plt.colorbar(p, orientation='vertical', shrink=0.6)\n",
    "cbar.ax.tick_params(labelsize=12)\n",
    "cbar.set_label(slope_matrix.long_name + \" (\" + slope_matrix.units + \")\")\n",
    "cbar.set_ticks(np.linspace(-40, 80, 7))\n",
    "\n",
    "# cbar.set_ticks(np.linspace(-80, 80, 17))\n",
    "\n",
    "# Use geocat.viz.util convenience function to set axes tick values\n",
    "gvutil.set_axes_limits_and_ticks(ax,\n",
    "                                 xlim=(89.5, 123),\n",
    "                                 ylim=(23, 37),\n",
    "                                 xticks=np.linspace(90, 120, 7),\n",
    "                                 yticks=np.linspace(24, 36, 7))\n",
    "\n",
    "# Use geocat.viz.util convenience function to make plots look like NCL plots by using latitude, longitude tick labels\n",
    "gvutil.add_lat_lon_ticklabels(ax)\n",
    "\n",
    "# Use geocat.viz.util convenience function to add minor and major tick lines\n",
    "gvutil.add_major_minor_ticks(ax,\n",
    "                             x_minor_per_major=5,\n",
    "                             y_minor_per_major=2,\n",
    "                             labelsize=12)\n",
    "\n",
    "# Use geocat.viz.util convenience function to add titles to left and right of the plot axis.\n",
    "gvutil.set_titles_and_labels(ax,\n",
    "                             maintitle=\"\",\n",
    "                             #                              maintitlefontsize=14,\n",
    "                             #                              lefttitle=slope_matrix.long_name,\n",
    "                             #                              lefttitlefontsize=12,\n",
    "                             #                              righttitle=slope_matrix.units,\n",
    "                             #                              righttitlefontsize=12,\n",
    "                             xlabel=\"\",\n",
    "                             ylabel=\"\")\n",
    "\n",
    "# Show the plot\n",
    "plt.savefig(\"yangtzepremk2.svg\",  transparent=True,\n",
    "            dpi=600, pad_inches=0.1, bbox_inches='tight')\n",
    "plt.show()"
   ]
  }
 ],
 "metadata": {
  "kernelspec": {
   "display_name": "geocat",
   "language": "python",
   "name": "geocat"
  },
  "language_info": {
   "codemirror_mode": {
    "name": "ipython",
    "version": 3
   },
   "file_extension": ".py",
   "mimetype": "text/x-python",
   "name": "python",
   "nbconvert_exporter": "python",
   "pygments_lexer": "ipython3",
   "version": "3.10.11"
  },
  "toc-showmarkdowntxt": false,
  "widgets": {
   "application/vnd.jupyter.widget-state+json": {
    "state": {},
    "version_major": 2,
    "version_minor": 0
   }
  }
 },
 "nbformat": 4,
 "nbformat_minor": 4
}
